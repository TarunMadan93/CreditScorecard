{
  "nbformat": 4,
  "nbformat_minor": 0,
  "metadata": {
    "colab": {
      "name": "credit_scorecard_devlopment.ipynb",
      "provenance": [],
      "include_colab_link": true
    },
    "kernelspec": {
      "name": "python3",
      "display_name": "Python 3"
    }
  },
  "cells": [
    {
      "cell_type": "markdown",
      "metadata": {
        "id": "view-in-github",
        "colab_type": "text"
      },
      "source": [
        "<a href=\"https://colab.research.google.com/github/TarunMadan93/CreditScorecard/blob/master/credit_scorecard_devlopment.ipynb\" target=\"_parent\"><img src=\"https://colab.research.google.com/assets/colab-badge.svg\" alt=\"Open In Colab\"/></a>"
      ]
    },
    {
      "cell_type": "code",
      "metadata": {
        "id": "iN5Uv9EP4Ehs",
        "colab_type": "code",
        "colab": {}
      },
      "source": [
        "import pandas as pd\n",
        "import matplotlib.pyplot as plt"
      ],
      "execution_count": 0,
      "outputs": []
    },
    {
      "cell_type": "code",
      "metadata": {
        "id": "_qoR7X7G4Qmu",
        "colab_type": "code",
        "colab": {}
      },
      "source": [
        "!pip install -U -q PyDrive"
      ],
      "execution_count": 0,
      "outputs": []
    },
    {
      "cell_type": "code",
      "metadata": {
        "id": "FJGxvrhu-acu",
        "colab_type": "code",
        "colab": {}
      },
      "source": [
        "from pydrive.auth import GoogleAuth\n",
        "from pydrive.drive import GoogleDrive\n",
        "from google.colab import auth \n",
        "from oauth2client.client import GoogleCredentials\n",
        "#Authenticate and create the PyDrive client\n",
        "auth.authenticate_user()\n",
        "gauth = GoogleAuth()\n",
        "gauth.credentials = GoogleCredentials.get_application_default()\n",
        "drive = GoogleDrive(gauth)"
      ],
      "execution_count": 0,
      "outputs": []
    },
    {
      "cell_type": "code",
      "metadata": {
        "id": "ZDAnYb1VBSXB",
        "colab_type": "code",
        "colab": {}
      },
      "source": [
        "link = 'https://drive.google.com/open?id=1-ViHvO73jWoSS4ZvDJ0Vw6yajTKOMwHM'\n",
        "fluff, id = link.split('=')\n",
        "downloaded = drive.CreateFile({'id':id})\n",
        "downloaded.GetContentFile('train_data.csv')\n",
        "df = pd.read_csv(\"train_data.csv\")"
      ],
      "execution_count": 0,
      "outputs": []
    },
    {
      "cell_type": "code",
      "metadata": {
        "id": "YUlMnTlSB8PV",
        "colab_type": "code",
        "colab": {
          "base_uri": "https://localhost:8080/",
          "height": 658
        },
        "outputId": "ed89624e-9f95-4c89-94a6-1e801149b724"
      },
      "source": [
        "#explore the training dataset\n",
        "df.drop(columns = 'Unnamed: 0', axis=1, inplace=True)\n",
        "print(df.shape)\n",
        "print(list(df.columns))\n",
        "for c in df.columns:\n",
        "  print(c)\n",
        "  try:\n",
        "    print('Max:', df[c].max())\n",
        "    print('Min:', df[c].min())\n",
        "  except:\n",
        "    pass"
      ],
      "execution_count": 23,
      "outputs": [
        {
          "output_type": "stream",
          "text": [
            "(150000, 11)\n",
            "['SeriousDlqin2yrs', 'RevolvingUtilizationOfUnsecuredLines', 'age', 'NumberOfTime30-59DaysPastDueNotWorse', 'DebtRatio', 'MonthlyIncome', 'NumberOfOpenCreditLinesAndLoans', 'NumberOfTimes90DaysLate', 'NumberRealEstateLoansOrLines', 'NumberOfTime60-89DaysPastDueNotWorse', 'NumberOfDependents']\n",
            "SeriousDlqin2yrs\n",
            "Max: 1\n",
            "Min: 0\n",
            "RevolvingUtilizationOfUnsecuredLines\n",
            "Max: 50708.0\n",
            "Min: 0.0\n",
            "age\n",
            "Max: 109\n",
            "Min: 0\n",
            "NumberOfTime30-59DaysPastDueNotWorse\n",
            "Max: 98\n",
            "Min: 0\n",
            "DebtRatio\n",
            "Max: 329664.0\n",
            "Min: 0.0\n",
            "MonthlyIncome\n",
            "Max: 3008750.0\n",
            "Min: 0.0\n",
            "NumberOfOpenCreditLinesAndLoans\n",
            "Max: 58\n",
            "Min: 0\n",
            "NumberOfTimes90DaysLate\n",
            "Max: 98\n",
            "Min: 0\n",
            "NumberRealEstateLoansOrLines\n",
            "Max: 54\n",
            "Min: 0\n",
            "NumberOfTime60-89DaysPastDueNotWorse\n",
            "Max: 98\n",
            "Min: 0\n",
            "NumberOfDependents\n",
            "Max: 20.0\n",
            "Min: 0.0\n"
          ],
          "name": "stdout"
        }
      ]
    },
    {
      "cell_type": "code",
      "metadata": {
        "id": "luLWENXPiTWE",
        "colab_type": "code",
        "colab": {
          "base_uri": "https://localhost:8080/",
          "height": 1000
        },
        "outputId": "78cf5c3c-2f64-4076-e40a-1b1909f95775"
      },
      "source": [
        "for c in df.columns:\n",
        "  print(c)\n",
        "  df[c].hist(bins=30)\n",
        "  plt.show()\n",
        "  print('\\n')"
      ],
      "execution_count": 28,
      "outputs": [
        {
          "output_type": "stream",
          "text": [
            "SeriousDlqin2yrs\n"
          ],
          "name": "stdout"
        },
        {
          "output_type": "display_data",
          "data": {
            "image/png": "[encoded data removed]",
            "text/plain": [
              "<Figure size 432x288 with 1 Axes>"
            ]
          },
          "metadata": {
            "tags": []
          }
        },
        {
          "output_type": "stream",
          "text": [
            "\n",
            "\n",
            "RevolvingUtilizationOfUnsecuredLines\n"
          ],
          "name": "stdout"
        },
        {
          "output_type": "display_data",
          "data": {
            "image/png": "[encoded data removed]",
            "text/plain": [
              "<Figure size 432x288 with 1 Axes>"
            ]
          },
          "metadata": {
            "tags": []
          }
        },
        {
          "output_type": "stream",
          "text": [
            "\n",
            "\n",
            "age\n"
          ],
          "name": "stdout"
        },
        {
          "output_type": "display_data",
          "data": {
            "image/png": "[encoded data removed]",
            "text/plain": [
              "<Figure size 432x288 with 1 Axes>"
            ]
          },
          "metadata": {
            "tags": []
          }
        },
        {
          "output_type": "stream",
          "text": [
            "\n",
            "\n",
            "NumberOfTime30-59DaysPastDueNotWorse\n"
          ],
          "name": "stdout"
        },
        {
          "output_type": "display_data",
          "data": {
            "image/png": "[encoded data removed]",
            "text/plain": [
              "<Figure size 432x288 with 1 Axes>"
            ]
          },
          "metadata": {
            "tags": []
          }
        },
        {
          "output_type": "stream",
          "text": [
            "\n",
            "\n",
            "DebtRatio\n"
          ],
          "name": "stdout"
        },
        {
          "output_type": "display_data",
          "data": {
            "image/png": "[encoded data removed]",
            "text/plain": [
              "<Figure size 432x288 with 1 Axes>"
            ]
          },
          "metadata": {
            "tags": []
          }
        },
        {
          "output_type": "stream",
          "text": [
            "\n",
            "\n",
            "MonthlyIncome\n"
          ],
          "name": "stdout"
        },
        {
          "output_type": "display_data",
          "data": {
            "image/png": "[encoded data removed]",
            "text/plain": [
              "<Figure size 432x288 with 1 Axes>"
            ]
          },
          "metadata": {
            "tags": []
          }
        },
        {
          "output_type": "stream",
          "text": [
            "\n",
            "\n",
            "NumberOfOpenCreditLinesAndLoans\n"
          ],
          "name": "stdout"
        },
        {
          "output_type": "display_data",
          "data": {
            "image/png": "[encoded data removed]",
            "text/plain": [
              "<Figure size 432x288 with 1 Axes>"
            ]
          },
          "metadata": {
            "tags": []
          }
        },
        {
          "output_type": "stream",
          "text": [
            "\n",
            "\n",
            "NumberOfTimes90DaysLate\n"
          ],
          "name": "stdout"
        },
        {
          "output_type": "display_data",
          "data": {
            "image/png": "[encoded data removed]",
            "text/plain": [
              "<Figure size 432x288 with 1 Axes>"
            ]
          },
          "metadata": {
            "tags": []
          }
        },
        {
          "output_type": "stream",
          "text": [
            "\n",
            "\n",
            "NumberRealEstateLoansOrLines\n"
          ],
          "name": "stdout"
        },
        {
          "output_type": "display_data",
          "data": {
            "image/png": "[encoded data removed]",
            "text/plain": [
              "<Figure size 432x288 with 1 Axes>"
            ]
          },
          "metadata": {
            "tags": []
          }
        },
        {
          "output_type": "stream",
          "text": [
            "\n",
            "\n",
            "NumberOfTime60-89DaysPastDueNotWorse\n"
          ],
          "name": "stdout"
        },
        {
          "output_type": "display_data",
          "data": {
            "image/png": "[encoded data removed]",
            "text/plain": [
              "<Figure size 432x288 with 1 Axes>"
            ]
          },
          "metadata": {
            "tags": []
          }
        },
        {
          "output_type": "stream",
          "text": [
            "\n",
            "\n",
            "NumberOfDependents\n"
          ],
          "name": "stdout"
        },
        {
          "output_type": "display_data",
          "data": {
            "image/png": "[encoded data removed]",
            "text/plain": [
              "<Figure size 432x288 with 1 Axes>"
            ]
          },
          "metadata": {
            "tags": []
          }
        },
        {
          "output_type": "stream",
          "text": [
            "\n",
            "\n"
          ],
          "name": "stdout"
        }
      ]
    },
    {
      "cell_type": "code",
      "metadata": {
        "id": "glT6efC0kGt3",
        "colab_type": "code",
        "colab": {
          "base_uri": "https://localhost:8080/",
          "height": 52
        },
        "outputId": "6f019b33-3997-4ab8-ea04-746c15f705bd"
      },
      "source": [
        "df.loc[(df['age']<18)]['age'].value_counts()"
      ],
      "execution_count": 31,
      "outputs": [
        {
          "output_type": "execute_result",
          "data": {
            "text/plain": [
              "0    1\n",
              "Name: age, dtype: int64"
            ]
          },
          "metadata": {
            "tags": []
          },
          "execution_count": 31
        }
      ]
    },
    {
      "cell_type": "code",
      "metadata": {
        "id": "K-QqEWR0lXA8",
        "colab_type": "code",
        "colab": {
          "base_uri": "https://localhost:8080/",
          "height": 34
        },
        "outputId": "61a52086-8d9c-412f-caee-3b1afa708d66"
      },
      "source": [
        "df['age'].median()"
      ],
      "execution_count": 32,
      "outputs": [
        {
          "output_type": "execute_result",
          "data": {
            "text/plain": [
              "52.0"
            ]
          },
          "metadata": {
            "tags": []
          },
          "execution_count": 32
        }
      ]
    },
    {
      "cell_type": "code",
      "metadata": {
        "id": "ETM9QbRal15U",
        "colab_type": "code",
        "colab": {
          "base_uri": "https://localhost:8080/",
          "height": 52
        },
        "outputId": "bcedd658-6d61-4243-e6a4-7074b8d33ffe"
      },
      "source": [
        "for c in df.columns:\n",
        "  if df[c].isnull().sum() > 0:\n",
        "    print(c)\n"
      ],
      "execution_count": 34,
      "outputs": [
        {
          "output_type": "stream",
          "text": [
            "MonthlyIncome\n",
            "NumberOfDependents\n"
          ],
          "name": "stdout"
        }
      ]
    },
    {
      "cell_type": "code",
      "metadata": {
        "id": "vqgY3uNXmD3b",
        "colab_type": "code",
        "colab": {
          "base_uri": "https://localhost:8080/",
          "height": 72
        },
        "outputId": "96402d97-82fc-4d8a-b56b-d589ff896211"
      },
      "source": [
        "for c in df.columns:\n",
        "  if df.loc[(df[c]== '.')].shape[0] > 0:\n",
        "    print(c)\n"
      ],
      "execution_count": 36,
      "outputs": [
        {
          "output_type": "stream",
          "text": [
            "/usr/local/lib/python3.6/dist-packages/pandas/core/ops/__init__.py:1115: FutureWarning: elementwise comparison failed; returning scalar instead, but in the future will perform elementwise comparison\n",
            "  result = method(y)\n"
          ],
          "name": "stderr"
        }
      ]
    },
    {
      "cell_type": "code",
      "metadata": {
        "id": "2DPX_hoLmNEc",
        "colab_type": "code",
        "colab": {
          "base_uri": "https://localhost:8080/",
          "height": 798
        },
        "outputId": "f952bdf5-1aa5-4175-9d7f-c795eb840386"
      },
      "source": [
        "for c in df.columns:\n",
        "  print(c)\n",
        "  print(df.loc[df[c].isnull()].shape[0]) \n",
        "  print('\\n')"
      ],
      "execution_count": 37,
      "outputs": [
        {
          "output_type": "stream",
          "text": [
            "SeriousDlqin2yrs\n",
            "0\n",
            "\n",
            "\n",
            "RevolvingUtilizationOfUnsecuredLines\n",
            "0\n",
            "\n",
            "\n",
            "age\n",
            "0\n",
            "\n",
            "\n",
            "NumberOfTime30-59DaysPastDueNotWorse\n",
            "0\n",
            "\n",
            "\n",
            "DebtRatio\n",
            "0\n",
            "\n",
            "\n",
            "MonthlyIncome\n",
            "29731\n",
            "\n",
            "\n",
            "NumberOfOpenCreditLinesAndLoans\n",
            "0\n",
            "\n",
            "\n",
            "NumberOfTimes90DaysLate\n",
            "0\n",
            "\n",
            "\n",
            "NumberRealEstateLoansOrLines\n",
            "0\n",
            "\n",
            "\n",
            "NumberOfTime60-89DaysPastDueNotWorse\n",
            "0\n",
            "\n",
            "\n",
            "NumberOfDependents\n",
            "3924\n",
            "\n",
            "\n"
          ],
          "name": "stdout"
        }
      ]
    },
    {
      "cell_type": "code",
      "metadata": {
        "id": "B6afEEVAnNd-",
        "colab_type": "code",
        "colab": {
          "base_uri": "https://localhost:8080/",
          "height": 247
        },
        "outputId": "e5726bcc-2f2a-4f7c-d139-1ee041c43f11"
      },
      "source": [
        "print(df.loc[df['RevolvingUtilizationOfUnsecuredLines'] > 1].shape)\n",
        "df.loc[df['RevolvingUtilizationOfUnsecuredLines'] <= 1].max() "
      ],
      "execution_count": 43,
      "outputs": [
        {
          "output_type": "stream",
          "text": [
            "(3321, 11)\n"
          ],
          "name": "stdout"
        },
        {
          "output_type": "execute_result",
          "data": {
            "text/plain": [
              "SeriousDlqin2yrs                              1.0\n",
              "RevolvingUtilizationOfUnsecuredLines          1.0\n",
              "age                                         109.0\n",
              "NumberOfTime30-59DaysPastDueNotWorse         98.0\n",
              "DebtRatio                                329664.0\n",
              "MonthlyIncome                           3008750.0\n",
              "NumberOfOpenCreditLinesAndLoans              58.0\n",
              "NumberOfTimes90DaysLate                      98.0\n",
              "NumberRealEstateLoansOrLines                 54.0\n",
              "NumberOfTime60-89DaysPastDueNotWorse         98.0\n",
              "NumberOfDependents                           20.0\n",
              "dtype: float64"
            ]
          },
          "metadata": {
            "tags": []
          },
          "execution_count": 43
        }
      ]
    },
    {
      "cell_type": "code",
      "metadata": {
        "id": "1KyuMfgKnrJt",
        "colab_type": "code",
        "colab": {
          "base_uri": "https://localhost:8080/",
          "height": 230
        },
        "outputId": "a465a07f-09fe-40c1-9d39-78e35953d957"
      },
      "source": [
        "df.median()"
      ],
      "execution_count": 40,
      "outputs": [
        {
          "output_type": "execute_result",
          "data": {
            "text/plain": [
              "SeriousDlqin2yrs                           0.000000\n",
              "RevolvingUtilizationOfUnsecuredLines       0.154181\n",
              "age                                       52.000000\n",
              "NumberOfTime30-59DaysPastDueNotWorse       0.000000\n",
              "DebtRatio                                  0.366508\n",
              "MonthlyIncome                           5400.000000\n",
              "NumberOfOpenCreditLinesAndLoans            8.000000\n",
              "NumberOfTimes90DaysLate                    0.000000\n",
              "NumberRealEstateLoansOrLines               1.000000\n",
              "NumberOfTime60-89DaysPastDueNotWorse       0.000000\n",
              "NumberOfDependents                         0.000000\n",
              "dtype: float64"
            ]
          },
          "metadata": {
            "tags": []
          },
          "execution_count": 40
        }
      ]
    },
    {
      "cell_type": "code",
      "metadata": {
        "id": "5ODDGBQcn6Pc",
        "colab_type": "code",
        "colab": {}
      },
      "source": [
        ""
      ],
      "execution_count": 0,
      "outputs": []
    }
  ]
}